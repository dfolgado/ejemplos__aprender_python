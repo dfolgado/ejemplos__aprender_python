{
  "nbformat": 4,
  "nbformat_minor": 0,
  "metadata": {
    "colab": {
      "provenance": [],
      "authorship_tag": "ABX9TyOdPBH3nDKzFPqudduVldYc",
      "include_colab_link": true
    },
    "kernelspec": {
      "name": "python3",
      "display_name": "Python 3"
    },
    "language_info": {
      "name": "python"
    }
  },
  "cells": [
    {
      "cell_type": "markdown",
      "metadata": {
        "id": "view-in-github",
        "colab_type": "text"
      },
      "source": [
        "<a href=\"https://colab.research.google.com/github/dfolgado/ejemplos_aprender_python/blob/main/estructura_datos.ipynb\" target=\"_parent\"><img src=\"https://colab.research.google.com/assets/colab-badge.svg\" alt=\"Open In Colab\"/></a>"
      ]
    },
    {
      "cell_type": "markdown",
      "source": [
        "**Listas**"
      ],
      "metadata": {
        "id": "MtYmdMNCuUfQ"
      }
    },
    {
      "cell_type": "code",
      "execution_count": null,
      "metadata": {
        "colab": {
          "base_uri": "https://localhost:8080/"
        },
        "id": "NujMTVo7RIxJ",
        "outputId": "fbb2c5e0-3f40-4295-aae5-2d565c3e2fe1"
      },
      "outputs": [
        {
          "output_type": "stream",
          "name": "stdout",
          "text": [
            "<class 'list'>\n",
            "['amarillo', 'naranja', 'rojo']\n",
            "[1, 2, 3, 4]\n",
            "El color en la posición 2 en la lista colores es rojo\n",
            "El color en la posición 1 en la lista colores es naranja\n",
            "El color en la posición 0 en la lista colores es amarillo\n",
            "En la posición 3 en lista_prueba está el 4\n",
            "La lista lista_prueba tiene una longitud de 4\n",
            "La lista colores tiene una longitud de 3\n",
            "El color amarillo aparece 1 veces\n"
          ]
        }
      ],
      "source": [
        "lista_prueba=[1,2,3,4]\n",
        "colores=[\"amarillo\", \"naranja\", \"rojo\"]\n",
        "print(type(colores))\n",
        "print(colores)\n",
        "print(lista_prueba)\n",
        "print(\"El color en la posición 2 en la lista colores es\", colores[2])\n",
        "print(\"El color en la posición 1 en la lista colores es\", colores[1])\n",
        "print(\"El color en la posición 0 en la lista colores es\", colores[0])\n",
        "print(\"En la posición 3 en lista_prueba está el\", lista_prueba[3])\n",
        "print(\"La lista lista_prueba tiene una longitud de\", len(lista_prueba))\n",
        "print(\"La lista colores tiene una longitud de\", len(colores))\n",
        "print(\"El color amarillo aparece\", colores.count(\"amarillo\"), \"veces\")"
      ]
    },
    {
      "cell_type": "markdown",
      "source": [
        "**Edición listas**"
      ],
      "metadata": {
        "id": "APildZ84uZTp"
      }
    },
    {
      "cell_type": "code",
      "source": [
        "# Añadimos con append un nuevo color al final\n",
        "colores.append(\"violeta\")\n",
        "print(colores)\n",
        "\n",
        "# Añadimos otro color con insert en la segunda posición empezando por el final\n",
        "colores.insert(-2, \"amarillo\")\n",
        "print(colores)\n",
        "print(colores.count(\"amarillo\"))\n",
        "\n",
        "# Ahora añadimos otra lista (en este caso con dos colores) con extend\n",
        "colores.extend([\"blanco\",\"azul\"])\n",
        "print(colores)\n",
        "\n",
        "# Podemos editar también  añadimos otra lista (en este caso con dos colores) con extend\n",
        "colores[0]=\"verde\"\n",
        "print(colores)"
      ],
      "metadata": {
        "colab": {
          "base_uri": "https://localhost:8080/"
        },
        "id": "WVOtAqhSleqj",
        "outputId": "c05aa678-0253-40e8-f7ae-76ed8bc2a85e"
      },
      "execution_count": null,
      "outputs": [
        {
          "output_type": "stream",
          "name": "stdout",
          "text": [
            "['amarillo', 'naranja', 'rojo', 'violeta']\n",
            "['amarillo', 'naranja', 'amarillo', 'rojo', 'violeta']\n",
            "2\n",
            "['amarillo', 'naranja', 'amarillo', 'rojo', 'violeta', 'blanco', 'azul']\n",
            "['verde', 'naranja', 'amarillo', 'rojo', 'violeta', 'blanco', 'azul']\n"
          ]
        }
      ]
    },
    {
      "cell_type": "markdown",
      "source": [
        "**Otro ejemplo lista**"
      ],
      "metadata": {
        "id": "ooUutmayePL1"
      }
    },
    {
      "cell_type": "code",
      "source": [
        "nombre_completo = [\"David\", \"Folgado\", \"De la Rosa\"]\n",
        "print(nombre_completo)\n",
        "print(len(nombre_completo))\n",
        "\n",
        "\n",
        "nombre_completo.append(\"vive en Elda\")\n",
        "print(nombre_completo)\n",
        "print(len(nombre_completo))\n",
        "\n",
        "direccion = [\"Plaza Mayor\", \"Elda\"]\n",
        "\n",
        "nombre_completo.extend(direccion)\n",
        "print(nombre_completo)\n",
        "print(len(nombre_completo))\n",
        "\n",
        "\n",
        "nombre_completo.insert(-2, \"es profe\")\n",
        "print(nombre_completo)\n",
        "print(len(nombre_completo))\n",
        "\n",
        "nombre_completo.count(\"Elda\")\n",
        "nombre_completo.count(\"Petrer\")\n",
        "nombre_completo.insert(-3, \"Elda\")\n",
        "print(nombre_completo)\n",
        "print(len(nombre_completo))\n",
        "nombre_completo.count(\"Elda\")"
      ],
      "metadata": {
        "colab": {
          "base_uri": "https://localhost:8080/"
        },
        "id": "zfyxGOR8eSbM",
        "outputId": "1bb6d5ab-a263-49b0-d029-88d82c1bde10"
      },
      "execution_count": null,
      "outputs": [
        {
          "output_type": "stream",
          "name": "stdout",
          "text": [
            "['David', 'Folgado', 'De la Rosa']\n",
            "3\n",
            "['David', 'Folgado', 'De la Rosa', 'vive en Elda']\n",
            "4\n",
            "['David', 'Folgado', 'De la Rosa', 'vive en Elda', 'Plaza Mayor', 'Elda']\n",
            "6\n",
            "['David', 'Folgado', 'De la Rosa', 'vive en Elda', 'es profe', 'Plaza Mayor', 'Elda']\n",
            "7\n",
            "['David', 'Folgado', 'De la Rosa', 'vive en Elda', 'Elda', 'es profe', 'Plaza Mayor', 'Elda']\n",
            "8\n"
          ]
        },
        {
          "output_type": "execute_result",
          "data": {
            "text/plain": [
              "2"
            ]
          },
          "metadata": {},
          "execution_count": 1
        }
      ]
    },
    {
      "cell_type": "markdown",
      "source": [
        "**Tuplas**"
      ],
      "metadata": {
        "id": "AVinEv9Wu9E2"
      }
    },
    {
      "cell_type": "code",
      "source": [
        "mi_tupla = (1,2,3,4)\n",
        "meses_verano = (\"Junio\", \"Julio\", \"Agosto\")\n",
        "print(type(meses_verano))\n",
        "print(meses_verano)\n",
        "print(mi_tupla)\n",
        "print(\"La longitud de la tupla mi_tupla es\", len(mi_tupla))\n",
        "print(\"El elemento de la tupla en la posición 3 es el\", mi_tupla[3])\n",
        "print(\"El elemento de la tupla en la posición 1 es el\", meses_verano[1])\n",
        "print(f\"Enero se repite {meses_verano.count('Enero')} veces en meses_verano\")\n",
        "\n"
      ],
      "metadata": {
        "id": "fEbahvKclhfN",
        "colab": {
          "base_uri": "https://localhost:8080/"
        },
        "outputId": "65eaed0d-28d1-47de-c6a8-9bb7d0e6b5cc"
      },
      "execution_count": null,
      "outputs": [
        {
          "output_type": "stream",
          "name": "stdout",
          "text": [
            "<class 'tuple'>\n",
            "('Junio', 'Julio', 'Agosto')\n",
            "(1, 2, 3, 4)\n",
            "La longitud de la tupla mi_tupla es 4\n",
            "El elemento de la tupla en la posición 3 es el 4\n",
            "El elemento de la tupla en la posición 1 es el Julio\n",
            "Enero se repite 0 veces en meses_verano\n"
          ]
        }
      ]
    },
    {
      "cell_type": "markdown",
      "source": [
        "**Diccionarios**"
      ],
      "metadata": {
        "id": "kWy5E1CEvCXZ"
      }
    },
    {
      "cell_type": "code",
      "source": [
        "libro = {\n",
        "\"nombre\": \"Libro de los sueños\",\n",
        "\"cantidad\": 8,\n",
        "\"precio\":4.99\n",
        "}\n",
        "\n",
        "\n",
        "persona = {\n",
        "\"nombre\": \"Pepe\",\n",
        "\"apellido\": \"Brotons\"\n",
        "}\n",
        "\n",
        "\n",
        "print(type(libro))\n",
        "print(libro)\n",
        "\n",
        "\n",
        "# Accedemos a los valores de producto mediente sus claves\n",
        "print(\"El nombre del producto es\", libro.get(\"nombre\"))\n",
        "print(\"Y tiene un precio de \", libro.get(\"precio\"))\n",
        "\n",
        "\n",
        "print(\"El nombre dela persona es\", persona.get(\"nombre\"))\n",
        "print(\"Y el apellido\", persona.get(\"apellido\"))\n",
        "\n",
        "\n",
        "# Algunas de las funciones de los diccionarios\n",
        "print(\"Las claves de persona son\", persona.keys())\n",
        "print(\"Los valores de persona son\", persona.values())\n",
        "print(\"Los items de persona son\", persona.items())\n",
        "print(\"La longitud de persona es\", len(persona))\n",
        "persona.clear()\n",
        "print(persona)\n"
      ],
      "metadata": {
        "colab": {
          "base_uri": "https://localhost:8080/"
        },
        "id": "6kalNhFs5CZq",
        "outputId": "ddb8bab4-cb46-49be-d0be-f67b6f33ea88"
      },
      "execution_count": null,
      "outputs": [
        {
          "output_type": "stream",
          "name": "stdout",
          "text": [
            "<class 'dict'>\n",
            "{'nombre': 'Libro de los sueños', 'cantidad': 8, 'precio': 4.99}\n",
            "El nombre del producto es Libro de los sueños\n",
            "Y tiene un precio de  4.99\n",
            "El nombre dela persona es Pepe\n",
            "Y el apellido Brotons\n",
            "Las claves de persona son dict_keys(['nombre', 'apellido'])\n",
            "Los valores de persona son dict_values(['Pepe', 'Brotons'])\n",
            "Los items de persona son dict_items([('nombre', 'Pepe'), ('apellido', 'Brotons')])\n",
            "La longitud de persona es 2\n",
            "{}\n"
          ]
        }
      ]
    }
  ]
}