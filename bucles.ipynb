{
  "nbformat": 4,
  "nbformat_minor": 0,
  "metadata": {
    "colab": {
      "provenance": [],
      "authorship_tag": "ABX9TyMWvQ319lB+P43J0RHLvaiD",
      "include_colab_link": true
    },
    "kernelspec": {
      "name": "python3",
      "display_name": "Python 3"
    },
    "language_info": {
      "name": "python"
    }
  },
  "cells": [
    {
      "cell_type": "markdown",
      "metadata": {
        "id": "view-in-github",
        "colab_type": "text"
      },
      "source": [
        "<a href=\"https://colab.research.google.com/github/dfolgado/ejemplos_aprender_python/blob/main/bucles.ipynb\" target=\"_parent\"><img src=\"https://colab.research.google.com/assets/colab-badge.svg\" alt=\"Open In Colab\"/></a>"
      ]
    },
    {
      "cell_type": "markdown",
      "source": [
        "**for (ejemplos con range)**"
      ],
      "metadata": {
        "id": "s4QvqXjbw_D1"
      }
    },
    {
      "cell_type": "code",
      "source": [
        "for i in range(4):\n",
        "  print(\"Hola\")"
      ],
      "metadata": {
        "colab": {
          "base_uri": "https://localhost:8080/"
        },
        "id": "bOZVbLkW9_fb",
        "outputId": "4d15c75a-9fb7-445d-ae24-726387ad2d6e"
      },
      "execution_count": null,
      "outputs": [
        {
          "output_type": "stream",
          "name": "stdout",
          "text": [
            "Hola\n",
            "Hola\n",
            "Hola\n",
            "Hola\n"
          ]
        }
      ]
    },
    {
      "cell_type": "code",
      "source": [
        "for i in range(3):\n",
        " print(i)"
      ],
      "metadata": {
        "colab": {
          "base_uri": "https://localhost:8080/"
        },
        "id": "8lR6TSRkVD1T",
        "outputId": "f66044e5-c4f4-4ab2-a9c7-26e172396779"
      },
      "execution_count": 36,
      "outputs": [
        {
          "output_type": "stream",
          "name": "stdout",
          "text": [
            "0\n",
            "1\n",
            "2\n"
          ]
        }
      ]
    },
    {
      "cell_type": "code",
      "source": [
        "for i in range(2,6):\n",
        "  print(i)"
      ],
      "metadata": {
        "colab": {
          "base_uri": "https://localhost:8080/"
        },
        "id": "oN7UXgK-VHpw",
        "outputId": "ead00cef-b68d-4306-ad33-026f6482a792"
      },
      "execution_count": null,
      "outputs": [
        {
          "output_type": "stream",
          "name": "stdout",
          "text": [
            "2\n",
            "3\n",
            "4\n",
            "5\n"
          ]
        }
      ]
    },
    {
      "cell_type": "code",
      "source": [
        "for i in range(2,10,3):\n",
        "  print(i)"
      ],
      "metadata": {
        "colab": {
          "base_uri": "https://localhost:8080/"
        },
        "id": "oupg3c7ZVMM7",
        "outputId": "671dfd55-f9df-4338-d872-481ffe7dc016"
      },
      "execution_count": null,
      "outputs": [
        {
          "output_type": "stream",
          "name": "stdout",
          "text": [
            "2\n",
            "5\n",
            "8\n"
          ]
        }
      ]
    },
    {
      "cell_type": "markdown",
      "source": [
        "**for (ejemplos sencillos)**"
      ],
      "metadata": {
        "id": "qNnvQpAVvdhZ"
      }
    },
    {
      "cell_type": "code",
      "source": [
        "print(\"Comienzo bucle 1\")\n",
        "for i in [0, 1, 2]:\n",
        "  print(\"Hola\")\n",
        "\n",
        "print(\"Comienzo bucle 2\")\n",
        "for i in []:\n",
        "  print(\"Hola\")\n",
        "\n",
        "print(\"Comienzo bucle 3\")\n",
        "for i in [1, 1, 1]:\n",
        "  print(\"Hola\")\n",
        "\n",
        "print(\"Comienzo bucle 4\")\n",
        "for i in [3, 4, 5]:\n",
        "  print(f\"Hola. Ahora i vale {i} y su cuadrado {i ** 2}\")\n",
        "\n",
        "print(\"Comienzo bucle 5\")\n",
        "for i in [\"Alba\", \"Benito\", 27]:\n",
        "  print(f\"Hola. Ahora i vale {i}\")"
      ],
      "metadata": {
        "colab": {
          "base_uri": "https://localhost:8080/"
        },
        "id": "D6gn-QRTwQRu",
        "outputId": "a88a4666-0b45-4ab0-8ab8-440fbe28f78b"
      },
      "execution_count": null,
      "outputs": [
        {
          "output_type": "stream",
          "name": "stdout",
          "text": [
            "Comienzo bucle 1\n",
            "Hola\n",
            "Hola\n",
            "Hola\n",
            "Comienzo bucle 2\n",
            "Comienzo bucle 3\n",
            "Hola\n",
            "Hola\n",
            "Hola\n",
            "Comienzo bucle 4\n",
            "Hola. Ahora i vale 3 y su cuadrado 9\n",
            "Hola. Ahora i vale 4 y su cuadrado 16\n",
            "Hola. Ahora i vale 5 y su cuadrado 25\n",
            "Comienzo bucle 5\n",
            "Hola. Ahora i vale Alba\n",
            "Hola. Ahora i vale Benito\n",
            "Hola. Ahora i vale 27\n"
          ]
        }
      ]
    },
    {
      "cell_type": "markdown",
      "source": [
        "**while**"
      ],
      "metadata": {
        "id": "_zqWvZm9vsJn"
      }
    },
    {
      "cell_type": "code",
      "source": [
        "i = 0\n",
        "while i <= 2:\n",
        "  print(i)\n",
        "  i += 1\n"
      ],
      "metadata": {
        "colab": {
          "base_uri": "https://localhost:8080/"
        },
        "id": "rS4a6FbBb3zp",
        "outputId": "1a9dc864-dc78-4b5d-94c3-66a216676d37"
      },
      "execution_count": null,
      "outputs": [
        {
          "output_type": "stream",
          "name": "stdout",
          "text": [
            "0\n",
            "1\n",
            "2\n",
            "Programa terminado\n"
          ]
        }
      ]
    },
    {
      "cell_type": "code",
      "source": [
        "contador=0\n",
        "while(contador<100):\n",
        "  contador = contador + 1\n",
        "  print(\"Ya voy por el \", contador, \"pararé enseguida\")\n"
      ],
      "metadata": {
        "colab": {
          "base_uri": "https://localhost:8080/"
        },
        "id": "KpukRmbfcu1O",
        "outputId": "799c56b5-ca08-4c85-8298-2fbee55e37fb"
      },
      "execution_count": null,
      "outputs": [
        {
          "output_type": "stream",
          "name": "stdout",
          "text": [
            "Ya voy por el  1 pararé enseguida\n",
            "Ya voy por el  2 pararé enseguida\n",
            "Ya voy por el  3 pararé enseguida\n",
            "Ya voy por el  4 pararé enseguida\n",
            "Ya voy por el  5 pararé enseguida\n",
            "Ya voy por el  6 pararé enseguida\n",
            "Ya voy por el  7 pararé enseguida\n",
            "Ya voy por el  8 pararé enseguida\n",
            "Ya voy por el  9 pararé enseguida\n",
            "Ya voy por el  10 pararé enseguida\n",
            "Ya voy por el  11 pararé enseguida\n",
            "Ya voy por el  12 pararé enseguida\n",
            "Ya voy por el  13 pararé enseguida\n",
            "Ya voy por el  14 pararé enseguida\n",
            "Ya voy por el  15 pararé enseguida\n",
            "Ya voy por el  16 pararé enseguida\n",
            "Ya voy por el  17 pararé enseguida\n",
            "Ya voy por el  18 pararé enseguida\n",
            "Ya voy por el  19 pararé enseguida\n",
            "Ya voy por el  20 pararé enseguida\n",
            "Ya voy por el  21 pararé enseguida\n",
            "Ya voy por el  22 pararé enseguida\n",
            "Ya voy por el  23 pararé enseguida\n",
            "Ya voy por el  24 pararé enseguida\n",
            "Ya voy por el  25 pararé enseguida\n",
            "Ya voy por el  26 pararé enseguida\n",
            "Ya voy por el  27 pararé enseguida\n",
            "Ya voy por el  28 pararé enseguida\n",
            "Ya voy por el  29 pararé enseguida\n",
            "Ya voy por el  30 pararé enseguida\n",
            "Ya voy por el  31 pararé enseguida\n",
            "Ya voy por el  32 pararé enseguida\n",
            "Ya voy por el  33 pararé enseguida\n",
            "Ya voy por el  34 pararé enseguida\n",
            "Ya voy por el  35 pararé enseguida\n",
            "Ya voy por el  36 pararé enseguida\n",
            "Ya voy por el  37 pararé enseguida\n",
            "Ya voy por el  38 pararé enseguida\n",
            "Ya voy por el  39 pararé enseguida\n",
            "Ya voy por el  40 pararé enseguida\n",
            "Ya voy por el  41 pararé enseguida\n",
            "Ya voy por el  42 pararé enseguida\n",
            "Ya voy por el  43 pararé enseguida\n",
            "Ya voy por el  44 pararé enseguida\n",
            "Ya voy por el  45 pararé enseguida\n",
            "Ya voy por el  46 pararé enseguida\n",
            "Ya voy por el  47 pararé enseguida\n",
            "Ya voy por el  48 pararé enseguida\n",
            "Ya voy por el  49 pararé enseguida\n",
            "Ya voy por el  50 pararé enseguida\n",
            "Ya voy por el  51 pararé enseguida\n",
            "Ya voy por el  52 pararé enseguida\n",
            "Ya voy por el  53 pararé enseguida\n",
            "Ya voy por el  54 pararé enseguida\n",
            "Ya voy por el  55 pararé enseguida\n",
            "Ya voy por el  56 pararé enseguida\n",
            "Ya voy por el  57 pararé enseguida\n",
            "Ya voy por el  58 pararé enseguida\n",
            "Ya voy por el  59 pararé enseguida\n",
            "Ya voy por el  60 pararé enseguida\n",
            "Ya voy por el  61 pararé enseguida\n",
            "Ya voy por el  62 pararé enseguida\n",
            "Ya voy por el  63 pararé enseguida\n",
            "Ya voy por el  64 pararé enseguida\n",
            "Ya voy por el  65 pararé enseguida\n",
            "Ya voy por el  66 pararé enseguida\n",
            "Ya voy por el  67 pararé enseguida\n",
            "Ya voy por el  68 pararé enseguida\n",
            "Ya voy por el  69 pararé enseguida\n",
            "Ya voy por el  70 pararé enseguida\n",
            "Ya voy por el  71 pararé enseguida\n",
            "Ya voy por el  72 pararé enseguida\n",
            "Ya voy por el  73 pararé enseguida\n",
            "Ya voy por el  74 pararé enseguida\n",
            "Ya voy por el  75 pararé enseguida\n",
            "Ya voy por el  76 pararé enseguida\n",
            "Ya voy por el  77 pararé enseguida\n",
            "Ya voy por el  78 pararé enseguida\n",
            "Ya voy por el  79 pararé enseguida\n",
            "Ya voy por el  80 pararé enseguida\n",
            "Ya voy por el  81 pararé enseguida\n",
            "Ya voy por el  82 pararé enseguida\n",
            "Ya voy por el  83 pararé enseguida\n",
            "Ya voy por el  84 pararé enseguida\n",
            "Ya voy por el  85 pararé enseguida\n",
            "Ya voy por el  86 pararé enseguida\n",
            "Ya voy por el  87 pararé enseguida\n",
            "Ya voy por el  88 pararé enseguida\n",
            "Ya voy por el  89 pararé enseguida\n",
            "Ya voy por el  90 pararé enseguida\n",
            "Ya voy por el  91 pararé enseguida\n",
            "Ya voy por el  92 pararé enseguida\n",
            "Ya voy por el  93 pararé enseguida\n",
            "Ya voy por el  94 pararé enseguida\n",
            "Ya voy por el  95 pararé enseguida\n",
            "Ya voy por el  96 pararé enseguida\n",
            "Ya voy por el  97 pararé enseguida\n",
            "Ya voy por el  98 pararé enseguida\n",
            "Ya voy por el  99 pararé enseguida\n",
            "Ya voy por el  100 pararé enseguida\n"
          ]
        }
      ]
    },
    {
      "cell_type": "code",
      "source": [
        "i = 1\n",
        "while i <= 50:\n",
        "  print(i)\n",
        "  i = 3 * i + 1\n",
        "print(\"Programa terminado\")"
      ],
      "metadata": {
        "colab": {
          "base_uri": "https://localhost:8080/"
        },
        "id": "BvdF9dC3c13c",
        "outputId": "ac9f2b93-af45-436a-8d1a-b2179d9503cd"
      },
      "execution_count": null,
      "outputs": [
        {
          "output_type": "stream",
          "name": "stdout",
          "text": [
            "1\n",
            "4\n",
            "13\n",
            "40\n",
            "Programa terminado\n"
          ]
        }
      ]
    },
    {
      "cell_type": "code",
      "source": [
        "numero = int(input(\"Escriba un número positivo: \"))\n",
        "while numero < 0:\n",
        "  print(\"¡Ha escrito un número negativo! Inténtelo de nuevo\")\n",
        "  numero = int(input(\"Escriba un número positivo: \"))\n",
        "print(\"Gracias por su colaboración\")\n"
      ],
      "metadata": {
        "id": "aSKjO_C3c8LU",
        "outputId": "e6c1af9e-c0eb-47a0-d19f-e37f7e13b035",
        "colab": {
          "base_uri": "https://localhost:8080/"
        }
      },
      "execution_count": null,
      "outputs": [
        {
          "output_type": "stream",
          "name": "stdout",
          "text": [
            "Escriba un número positivo: -3\n",
            "¡Ha escrito un número negativo! Inténtelo de nuevo\n",
            "Escriba un número positivo: -23\n",
            "¡Ha escrito un número negativo! Inténtelo de nuevo\n",
            "Escriba un número positivo: 45\n",
            "Gracias por su colaboración\n"
          ]
        }
      ]
    },
    {
      "cell_type": "markdown",
      "source": [
        "**Lanzamiento de cohete manual**"
      ],
      "metadata": {
        "id": "PwIxYo5JyHLs"
      }
    },
    {
      "cell_type": "code",
      "source": [
        "for i in [10,9,8,7,6,5,4,3,2,1, \"Lanzamos el cohete!!\"]:\n",
        "  print(i)"
      ],
      "metadata": {
        "colab": {
          "base_uri": "https://localhost:8080/"
        },
        "id": "uuQ2giiJeAyO",
        "outputId": "02cd3c77-f99d-41c6-e9f1-c5907bac2839"
      },
      "execution_count": null,
      "outputs": [
        {
          "output_type": "stream",
          "name": "stdout",
          "text": [
            "10\n",
            "9\n",
            "8\n",
            "7\n",
            "6\n",
            "5\n",
            "4\n",
            "3\n",
            "2\n",
            "1\n",
            "Lanzamos el cohete!!\n"
          ]
        }
      ]
    },
    {
      "cell_type": "markdown",
      "source": [
        "**Lanzamiento de cohete (con for)**"
      ],
      "metadata": {
        "id": "HWAO9h4myUc1"
      }
    },
    {
      "cell_type": "code",
      "source": [
        "for i in range(10):\n",
        "  print(10-i)\n",
        "print(\"Lanzamos el cohete!!\")"
      ],
      "metadata": {
        "colab": {
          "base_uri": "https://localhost:8080/"
        },
        "id": "xUTH-I-teO0D",
        "outputId": "1bb7c956-be68-481e-ef8f-a2226644c1e4"
      },
      "execution_count": null,
      "outputs": [
        {
          "output_type": "stream",
          "name": "stdout",
          "text": [
            "10\n",
            "9\n",
            "8\n",
            "7\n",
            "6\n",
            "5\n",
            "4\n",
            "3\n",
            "2\n",
            "1\n",
            "Lanzamos elñ cohete!!\n"
          ]
        }
      ]
    },
    {
      "cell_type": "markdown",
      "source": [
        "**Lanzamiento de cohete (con while)**"
      ],
      "metadata": {
        "id": "Z3-ojqsFyWRU"
      }
    },
    {
      "cell_type": "code",
      "source": [
        "i=10\n",
        "while i>0:\n",
        "  print(i)\n",
        "  i=i-1\n",
        "print(\"Lanzamos el cohete!!\")"
      ],
      "metadata": {
        "colab": {
          "base_uri": "https://localhost:8080/"
        },
        "id": "7Jl4tsJJejga",
        "outputId": "e29810f5-1e0b-4c1e-c834-af158f16b58d"
      },
      "execution_count": null,
      "outputs": [
        {
          "output_type": "stream",
          "name": "stdout",
          "text": [
            "10\n",
            "9\n",
            "8\n",
            "7\n",
            "6\n",
            "5\n",
            "4\n",
            "3\n",
            "2\n",
            "1\n",
            "Lanzamos el cohete!!\n"
          ]
        }
      ]
    },
    {
      "cell_type": "markdown",
      "source": [
        "**Tabla de multiplicar (con for)**"
      ],
      "metadata": {
        "id": "K5UJw8ltjGzB"
      }
    },
    {
      "cell_type": "code",
      "source": [
        "numero = int(input(\"Introduce un número: \"))\n",
        "\n",
        "for i in range(11):\n",
        "  print(numero, \"x\", i, \"=\", numero*i)"
      ],
      "metadata": {
        "colab": {
          "base_uri": "https://localhost:8080/"
        },
        "id": "DM5phrNmgVII",
        "outputId": "88f69274-df9c-4f9a-e0a6-fd6db0a55475"
      },
      "execution_count": null,
      "outputs": [
        {
          "output_type": "stream",
          "name": "stdout",
          "text": [
            "Introduce un número: 3\n",
            "3 x 0 = 0\n",
            "3 x 1 = 3\n",
            "3 x 2 = 6\n",
            "3 x 3 = 9\n",
            "3 x 4 = 12\n",
            "3 x 5 = 15\n",
            "3 x 6 = 18\n",
            "3 x 7 = 21\n",
            "3 x 8 = 24\n",
            "3 x 9 = 27\n",
            "3 x 10 = 30\n"
          ]
        }
      ]
    },
    {
      "cell_type": "markdown",
      "source": [
        "**Tabla de multiplicar (con while)**"
      ],
      "metadata": {
        "id": "Y14UOX2Vyc8I"
      }
    },
    {
      "cell_type": "code",
      "source": [
        "numero = int(input(\"Introduce un número: \"))\n",
        "\n",
        "i=0\n",
        "\n",
        "while i<=10:\n",
        "  print(numero, \"x\", i, \"=\", numero*i)\n",
        "  i=i+1"
      ],
      "metadata": {
        "colab": {
          "base_uri": "https://localhost:8080/"
        },
        "id": "n1_fh3_rhWJX",
        "outputId": "dcfb9abe-2591-4d2a-a970-73dce0887717"
      },
      "execution_count": null,
      "outputs": [
        {
          "output_type": "stream",
          "name": "stdout",
          "text": [
            "Introduce un número: 3\n",
            "3 x 0 = 0\n",
            "3 x 1 = 3\n",
            "3 x 2 = 6\n",
            "3 x 3 = 9\n",
            "3 x 4 = 12\n",
            "3 x 5 = 15\n",
            "3 x 6 = 18\n",
            "3 x 7 = 21\n",
            "3 x 8 = 24\n",
            "3 x 9 = 27\n",
            "3 x 10 = 30\n"
          ]
        }
      ]
    },
    {
      "cell_type": "markdown",
      "source": [
        "**Adivina un número**"
      ],
      "metadata": {
        "id": "GMxYKKI4wJIg"
      }
    },
    {
      "cell_type": "code",
      "source": [
        "numero = 7\n",
        "\n",
        "intento = int(input(\"Dime un número: \"))\n",
        "\n",
        "while numero != intento:\n",
        "  intento = int(input(\"Incorrecto! Prueba otra vez: \"))\n",
        "\n",
        "print(\"Correcto!! Enhorabuena\")"
      ],
      "metadata": {
        "id": "lzfLYiibi0QN",
        "colab": {
          "base_uri": "https://localhost:8080/"
        },
        "outputId": "3f0f2b78-9110-4687-f59a-1741f7a05fd0"
      },
      "execution_count": 37,
      "outputs": [
        {
          "output_type": "stream",
          "name": "stdout",
          "text": [
            "Dime un número: 4\n",
            "Incorrecto! Prueba otra vez: 3\n",
            "Incorrecto! Prueba otra vez: 7\n",
            "Correcto!! Enhorabuena\n"
          ]
        }
      ]
    },
    {
      "cell_type": "markdown",
      "source": [
        "**Adivina un número con 5 intentos**"
      ],
      "metadata": {
        "id": "0CcU7arVwONf"
      }
    },
    {
      "cell_type": "code",
      "source": [
        "numero = 8\n",
        "\n",
        "intento = int(input(\"Adivina un número: \"))\n",
        "\n",
        "contador=1\n",
        "\n",
        "while numero != intento and contador <5:\n",
        "  intento = int(input(\"Incorrecto!! Inténtalo de nuevo: \"))\n",
        "  contador = contador + 1\n",
        "\n",
        "if numero == intento:\n",
        "  print(\"Correcto!!!\")\n",
        "else:\n",
        "  print(\"Has perdido!!\")"
      ],
      "metadata": {
        "id": "7PI7DvH_ip3n",
        "colab": {
          "base_uri": "https://localhost:8080/"
        },
        "outputId": "fc0b42e6-2ee0-4932-a238-df9fcb98bdff"
      },
      "execution_count": null,
      "outputs": [
        {
          "output_type": "stream",
          "name": "stdout",
          "text": [
            "Adivina un número: 1\n",
            "Incorrecto!! Inténtalo de nuevo: 2\n",
            "Incorrecto!! Inténtalo de nuevo: 8\n",
            "Correcto!!!\n"
          ]
        }
      ]
    },
    {
      "cell_type": "markdown",
      "source": [
        "**Cajero automático con multiples operaciones**"
      ],
      "metadata": {
        "id": "7Xve_clBxhGp"
      }
    },
    {
      "cell_type": "code",
      "source": [
        "saldo = 1000\n",
        "\n",
        "# Imprimimos el menú\n",
        "print(\"Buenas, elija una operación: \")\n",
        "print(\"0. Salir\")\n",
        "print(\"1. Consulta de saldo\")\n",
        "print(\"2. Retirar dinero\")\n",
        "print(\"3. Ingresar dinero\")\n",
        "\n",
        "# Leemos la opción escogida\n",
        "op=int(input())\n",
        "\n",
        "# Realizamos l operación\n",
        "\n",
        "while op != 0:\n",
        "  if op == 1:\n",
        "    print(\"Su saldo actual es\", saldo)\n",
        "  elif op == 2:\n",
        "    dinero_a_retirar = int(input(\"¿Cuánto dinero desea retirar?\"))\n",
        "    if saldo<dinero_a_retirar:\n",
        "      print(\"Lo sentimos, su saldo no es suficiente:\", saldo)\n",
        "    else:\n",
        "      saldo = saldo - dinero_a_retirar\n",
        "      print(\"Su saldo actual es\", saldo)\n",
        "  elif op == 3:\n",
        "    dinero_ingresado = int(input(\"¿Cuánto dinero desea ingresar?\"))\n",
        "    saldo = saldo + dinero_ingresado\n",
        "    print(\"Su saldo actual es\", saldo)\n",
        "  else:\n",
        "    print(\"Error!! Operación debe de ser 1,2 ó 3.\")\n",
        "\n",
        "  op=int(input(\"¿Desea realizar alguna otra operación?\"))\n",
        "\n",
        "print(\"Gracias!! \")"
      ],
      "metadata": {
        "id": "xG2fJiQsjAnV",
        "colab": {
          "base_uri": "https://localhost:8080/",
          "height": 507
        },
        "outputId": "c1bc5f5c-31e9-4b42-c740-e01cd8414a04"
      },
      "execution_count": null,
      "outputs": [
        {
          "output_type": "stream",
          "name": "stdout",
          "text": [
            "Buenas, elija una operación: \n",
            "0. Salir\n",
            "1. Consulta de saldo\n",
            "2. Retirar dinero\n",
            "3. Ingresar dinero\n",
            "2\n",
            "¿Cuánto dinero desea retirar?3000\n",
            "Lo sentimos, su saldo no es suficiente: 1000\n"
          ]
        },
        {
          "output_type": "error",
          "ename": "KeyboardInterrupt",
          "evalue": "Interrupted by user",
          "traceback": [
            "\u001b[0;31m---------------------------------------------------------------------------\u001b[0m",
            "\u001b[0;31mKeyboardInterrupt\u001b[0m                         Traceback (most recent call last)",
            "\u001b[0;32m<ipython-input-40-96c80f4ce901>\u001b[0m in \u001b[0;36m<cell line: 15>\u001b[0;34m()\u001b[0m\n\u001b[1;32m     30\u001b[0m     \u001b[0mprint\u001b[0m\u001b[0;34m(\u001b[0m\u001b[0;34m\"Error!! Operación debe de ser 1,2 ó 3.\"\u001b[0m\u001b[0;34m)\u001b[0m\u001b[0;34m\u001b[0m\u001b[0;34m\u001b[0m\u001b[0m\n\u001b[1;32m     31\u001b[0m \u001b[0;34m\u001b[0m\u001b[0m\n\u001b[0;32m---> 32\u001b[0;31m   \u001b[0mop\u001b[0m\u001b[0;34m=\u001b[0m\u001b[0mint\u001b[0m\u001b[0;34m(\u001b[0m\u001b[0minput\u001b[0m\u001b[0;34m(\u001b[0m\u001b[0;34m\"¿Desea realizar alguna otra operación?\"\u001b[0m\u001b[0;34m)\u001b[0m\u001b[0;34m)\u001b[0m\u001b[0;34m\u001b[0m\u001b[0;34m\u001b[0m\u001b[0m\n\u001b[0m\u001b[1;32m     33\u001b[0m \u001b[0;34m\u001b[0m\u001b[0m\n\u001b[1;32m     34\u001b[0m \u001b[0mprint\u001b[0m\u001b[0;34m(\u001b[0m\u001b[0;34m\"Gracias!! \"\u001b[0m\u001b[0;34m)\u001b[0m\u001b[0;34m\u001b[0m\u001b[0;34m\u001b[0m\u001b[0m\n",
            "\u001b[0;32m/usr/local/lib/python3.10/dist-packages/ipykernel/kernelbase.py\u001b[0m in \u001b[0;36mraw_input\u001b[0;34m(self, prompt)\u001b[0m\n\u001b[1;32m    849\u001b[0m                 \u001b[0;34m\"raw_input was called, but this frontend does not support input requests.\"\u001b[0m\u001b[0;34m\u001b[0m\u001b[0;34m\u001b[0m\u001b[0m\n\u001b[1;32m    850\u001b[0m             )\n\u001b[0;32m--> 851\u001b[0;31m         return self._input_request(str(prompt),\n\u001b[0m\u001b[1;32m    852\u001b[0m             \u001b[0mself\u001b[0m\u001b[0;34m.\u001b[0m\u001b[0m_parent_ident\u001b[0m\u001b[0;34m,\u001b[0m\u001b[0;34m\u001b[0m\u001b[0;34m\u001b[0m\u001b[0m\n\u001b[1;32m    853\u001b[0m             \u001b[0mself\u001b[0m\u001b[0;34m.\u001b[0m\u001b[0m_parent_header\u001b[0m\u001b[0;34m,\u001b[0m\u001b[0;34m\u001b[0m\u001b[0;34m\u001b[0m\u001b[0m\n",
            "\u001b[0;32m/usr/local/lib/python3.10/dist-packages/ipykernel/kernelbase.py\u001b[0m in \u001b[0;36m_input_request\u001b[0;34m(self, prompt, ident, parent, password)\u001b[0m\n\u001b[1;32m    893\u001b[0m             \u001b[0;32mexcept\u001b[0m \u001b[0mKeyboardInterrupt\u001b[0m\u001b[0;34m:\u001b[0m\u001b[0;34m\u001b[0m\u001b[0;34m\u001b[0m\u001b[0m\n\u001b[1;32m    894\u001b[0m                 \u001b[0;31m# re-raise KeyboardInterrupt, to truncate traceback\u001b[0m\u001b[0;34m\u001b[0m\u001b[0;34m\u001b[0m\u001b[0m\n\u001b[0;32m--> 895\u001b[0;31m                 \u001b[0;32mraise\u001b[0m \u001b[0mKeyboardInterrupt\u001b[0m\u001b[0;34m(\u001b[0m\u001b[0;34m\"Interrupted by user\"\u001b[0m\u001b[0;34m)\u001b[0m \u001b[0;32mfrom\u001b[0m \u001b[0;32mNone\u001b[0m\u001b[0;34m\u001b[0m\u001b[0;34m\u001b[0m\u001b[0m\n\u001b[0m\u001b[1;32m    896\u001b[0m             \u001b[0;32mexcept\u001b[0m \u001b[0mException\u001b[0m \u001b[0;32mas\u001b[0m \u001b[0me\u001b[0m\u001b[0;34m:\u001b[0m\u001b[0;34m\u001b[0m\u001b[0;34m\u001b[0m\u001b[0m\n\u001b[1;32m    897\u001b[0m                 \u001b[0mself\u001b[0m\u001b[0;34m.\u001b[0m\u001b[0mlog\u001b[0m\u001b[0;34m.\u001b[0m\u001b[0mwarning\u001b[0m\u001b[0;34m(\u001b[0m\u001b[0;34m\"Invalid Message:\"\u001b[0m\u001b[0;34m,\u001b[0m \u001b[0mexc_info\u001b[0m\u001b[0;34m=\u001b[0m\u001b[0;32mTrue\u001b[0m\u001b[0;34m)\u001b[0m\u001b[0;34m\u001b[0m\u001b[0;34m\u001b[0m\u001b[0m\n",
            "\u001b[0;31mKeyboardInterrupt\u001b[0m: Interrupted by user"
          ]
        }
      ]
    },
    {
      "cell_type": "markdown",
      "source": [
        "**Login**"
      ],
      "metadata": {
        "id": "6cXMCP7Twc1s"
      }
    },
    {
      "cell_type": "code",
      "source": [
        "user=\"pepe\"\n",
        "password=\"123\"\n",
        "\n",
        "\n",
        "userInput = input(\"Introduce un usuario\")\n",
        "while user != userInput:\n",
        "  userInput = input(\"Introduce un usuario\")\n",
        "\n",
        "passwordInput = input(\"Introduce una contraseña\")\n",
        "while password != passwordInput:\n",
        "  passwordInput = input(\"Introduce una contraseña\")\n"
      ],
      "metadata": {
        "id": "Qm1OYKQM7hVh"
      },
      "execution_count": null,
      "outputs": []
    },
    {
      "cell_type": "markdown",
      "source": [
        "**Login más realista**"
      ],
      "metadata": {
        "id": "TacmH6DowXkM"
      }
    },
    {
      "cell_type": "code",
      "source": [
        "user=\"pepe\"\n",
        "password=\"123\"\n",
        "\n",
        "userInput = input(\"Introduce un usuario\")\n",
        "passwordInput = input(\"Introduce una contraseña\")\n",
        "\n",
        "while user != userInput or password != passwordInput:\n",
        "  userInput = input(\"Introduce un usuario\")\n",
        "  passwordInput = input(\"Introduce una contraseña\")\n"
      ],
      "metadata": {
        "id": "5eHjoCBZ8H10"
      },
      "execution_count": null,
      "outputs": []
    }
  ]
}