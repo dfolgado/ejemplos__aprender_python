{
  "nbformat": 4,
  "nbformat_minor": 0,
  "metadata": {
    "colab": {
      "provenance": [],
      "authorship_tag": "ABX9TyP6ia9f8r1j9NeMxE+U571V",
      "include_colab_link": true
    },
    "kernelspec": {
      "name": "python3",
      "display_name": "Python 3"
    },
    "language_info": {
      "name": "python"
    }
  },
  "cells": [
    {
      "cell_type": "markdown",
      "metadata": {
        "id": "view-in-github",
        "colab_type": "text"
      },
      "source": [
        "<a href=\"https://colab.research.google.com/github/dfolgado/ejemplos__aprender_python/blob/main/funciones.ipynb\" target=\"_parent\"><img src=\"https://colab.research.google.com/assets/colab-badge.svg\" alt=\"Open In Colab\"/></a>"
      ]
    },
    {
      "cell_type": "markdown",
      "source": [
        "**Función ejemplo**"
      ],
      "metadata": {
        "id": "DlM-T1dAjWsx"
      }
    },
    {
      "cell_type": "code",
      "source": [
        "def licencia():\n",
        "  print(\"Copyright 2020 IES Poeta Paco Mollá\")\n",
        "  print(\"Licencia CC-BY-SA 4.0\")\n",
        "  return\n",
        "\n",
        "print(\"Este programa no hace nada interesante.\")\n",
        "licencia()\n",
        "print(\"Programa terminado.\")"
      ],
      "metadata": {
        "colab": {
          "base_uri": "https://localhost:8080/"
        },
        "id": "FxUW0PCGf4qt",
        "outputId": "41e0b642-d21d-428e-f468-ce5d97acfe3e"
      },
      "execution_count": 5,
      "outputs": [
        {
          "output_type": "stream",
          "name": "stdout",
          "text": [
            "Este programa no hace nada interesante.\n",
            "Copyright 2020 IES Poeta Paco Mollá\n",
            "Licencia CC-BY-SA 4.0\n",
            "Programa terminado.\n"
          ]
        }
      ]
    },
    {
      "cell_type": "markdown",
      "source": [
        "**Cajero con Menú en función**"
      ],
      "metadata": {
        "id": "h9qn8Ynx_90X"
      }
    },
    {
      "cell_type": "code",
      "execution_count": null,
      "metadata": {
        "id": "JLHvG08zh_Lm"
      },
      "outputs": [],
      "source": [
        "# Función que imprime el menú\n",
        "def mostrar_menu():\n",
        "  print(\"Buenas, elija una operación: \")\n",
        "  print(\"0. Salir\")\n",
        "  print(\"1. Consulta de saldo\")\n",
        "  print(\"2. Retirar dinero\")\n",
        "  print(\"3. Ingresar dinero\")\n",
        "\n",
        "\n",
        "# Definimos el saldo inicial\n",
        "saldo = 1000\n",
        "\n",
        "# Llamamos a la función para imprimir el menú\n",
        "mostrar_menu()\n",
        "\n",
        "# Leemos la opción escogida\n",
        "op=int(input())\n",
        "\n",
        "while op != 0:\n",
        "  # Realizamos la operación\n",
        "  if op == 1:\n",
        "    print(\"Su saldo actual es\", saldo)\n",
        "  elif op == 2:\n",
        "    dinero_retirado = int(input(\"¿Cuánto dinero desea retirar?\"))\n",
        "    saldo = saldo - dinero_retirado\n",
        "    print(\"Su saldo actual es\", saldo)\n",
        "  elif op == 3:\n",
        "    dinero_ingresado = int(input(\"¿Cuánto dinero desea ingresar?\"))\n",
        "    saldo = saldo + dinero_ingresado\n",
        "    print(\"Su saldo actual es\", saldo)\n",
        "  else:\n",
        "    print(\"Error!! Operación debe de ser 1,2 ó 3.\")\n",
        "\n",
        "  # Llamamos de nuevo a la función para imprimir el menú\n",
        "  mostrar_menu()\n",
        "\n",
        "  # Leemos la opción escogida\n",
        "  op=int(input())\n",
        "\n",
        "print(\"Hasta la próxima!!\")"
      ]
    },
    {
      "cell_type": "markdown",
      "source": [
        "**Cajero con funciones**"
      ],
      "metadata": {
        "id": "tgTMbc9nAFE0"
      }
    },
    {
      "cell_type": "code",
      "source": [
        "# Función que imprime el menú\n",
        "def mostrar_menu():\n",
        "  print(\"Buenas, elija una operación: \")\n",
        "  print(\"0. Salir\")\n",
        "  print(\"1. Consulta de saldo\")\n",
        "  print(\"2. Retirar dinero\")\n",
        "  print(\"3. Ingresar dinero\")\n",
        "\n",
        "def mostrar_saldo(saldo):\n",
        "  print(\"Su saldo actual es\", saldo)\n",
        "\n",
        "def retirar_dinero(saldo):\n",
        "  dinero_a_retirar = int(input(\"¿Cuánto dinero desea retirar?\"))\n",
        "  if(saldo<dinero_a_retirar):\n",
        "    print(\"Lo sentimos, saldo insuficiente\")\n",
        "  else:\n",
        "    saldo = saldo - dinero_a_retirar\n",
        "    print(\"Su saldo actual es\", saldo)\n",
        "    return saldo\n",
        "\n",
        "def ingresar_dinero(saldo):\n",
        "  dinero_a_ingresar = int(input(\"¿Cuánto dinero desea ingresar?\"))\n",
        "  saldo = saldo + dinero_a_ingresar\n",
        "  print(\"Su saldo actual es\", saldo)\n",
        "  return saldo\n",
        "\n",
        "\n",
        "# Definimos el saldo inicial\n",
        "saldo = 1000\n",
        "\n",
        "# Llamamos a la función para imprimir el menú\n",
        "mostrar_menu()\n",
        "\n",
        "# Leemos la opción escogida\n",
        "op=int(input())\n",
        "\n",
        "while op != 0:\n",
        "  # Realizamos la operación\n",
        "  if op == 1:\n",
        "    mostrar_saldo(saldo)\n",
        "  elif op == 2:\n",
        "    saldo = retirar_dinero(saldo)\n",
        "  elif op == 3:\n",
        "    saldo = ingresar_dinero(saldo)\n",
        "  else:\n",
        "    print(\"Error!! Operación debe de ser 1,2 ó 3.\")\n",
        "\n",
        "  # Llamamos de nuevo a la función para imprimir el menú\n",
        "  mostrar_menu()\n",
        "\n",
        "  # Leemos la opción escogida\n",
        "  op=int(input())\n",
        "\n",
        "print(\"Hasta la próxima!!\")"
      ],
      "metadata": {
        "id": "CWv3THz9AKbf",
        "colab": {
          "base_uri": "https://localhost:8080/"
        },
        "outputId": "78e6fe21-e509-44aa-cca0-ae07ee51f1bc"
      },
      "execution_count": null,
      "outputs": [
        {
          "output_type": "stream",
          "name": "stdout",
          "text": [
            "Buenas, elija una operación: \n",
            "0. Salir\n",
            "1. Consulta de saldo\n",
            "2. Retirar dinero\n",
            "3. Ingresar dinero\n",
            "1\n",
            "Su saldo actual es 1000\n",
            "Buenas, elija una operación: \n",
            "0. Salir\n",
            "1. Consulta de saldo\n",
            "2. Retirar dinero\n",
            "3. Ingresar dinero\n",
            "2\n",
            "¿Cuánto dinero desea retirar?300\n",
            "Su saldo actual es 700\n",
            "Buenas, elija una operación: \n",
            "0. Salir\n",
            "1. Consulta de saldo\n",
            "2. Retirar dinero\n",
            "3. Ingresar dinero\n",
            "3\n",
            "¿Cuánto dinero desea ingresar?600\n",
            "Su saldo actual es 1300\n",
            "Buenas, elija una operación: \n",
            "0. Salir\n",
            "1. Consulta de saldo\n",
            "2. Retirar dinero\n",
            "3. Ingresar dinero\n",
            "0\n",
            "Hasta la próxima!!\n"
          ]
        }
      ]
    },
    {
      "cell_type": "markdown",
      "source": [
        "**Función simple saludar (sin parámetros y sin return)**"
      ],
      "metadata": {
        "id": "qveyxYEficYD"
      }
    },
    {
      "cell_type": "code",
      "source": [
        "# Definimos la función\n",
        "def saludar():\n",
        "  print(\"Hola!!\")\n",
        "\n",
        "# Llamamos a la función\n",
        "saludar()"
      ],
      "metadata": {
        "id": "Kl5NBSrdiOlV"
      },
      "execution_count": null,
      "outputs": []
    },
    {
      "cell_type": "markdown",
      "source": [
        "**Función saludar (1 parámetro y sin return)**"
      ],
      "metadata": {
        "id": "SVJCaob-iiWt"
      }
    },
    {
      "cell_type": "code",
      "source": [
        "# Definimos la función\n",
        "def Saludar(nombre):\n",
        "  print(\"Hola\", nombre)\n",
        "\n",
        "# Ejemplos de llamadas a la función\n",
        "name = input(\"Dime tu nombre: \")\n",
        "saludar(name)\n",
        "\n",
        "saludar(\"Javier\")"
      ],
      "metadata": {
        "id": "QP8VfKpOr2Ji"
      },
      "execution_count": null,
      "outputs": []
    },
    {
      "cell_type": "markdown",
      "source": [
        "**Función que devuelve la suma 2 números**"
      ],
      "metadata": {
        "id": "_S7Qm0UjinDk"
      }
    },
    {
      "cell_type": "code",
      "source": [
        "def sumar(param1, param2):\n",
        "  return param1+param2\n",
        "\n",
        "n1 = int(input(\"Introduce un nº: \"))\n",
        "n2 = int(input(\"Introduce un nº: \"))\n",
        "\n",
        "\n",
        "resultadoSuma = sumar(n1,n2)\n",
        "\n",
        "print(\"El resultado de la numa de\", n1, \"y\", n2, \"es\", resultadoSuma)"
      ],
      "metadata": {
        "id": "IiUJOm0liRGP"
      },
      "execution_count": null,
      "outputs": []
    },
    {
      "cell_type": "markdown",
      "source": [
        "**Función que devuelve la multiplicación de 3 números**"
      ],
      "metadata": {
        "id": "hOvWAGj3iv7l"
      }
    },
    {
      "cell_type": "code",
      "source": [
        "def multiplicar(param1, param2, param3):\n",
        "  return param1*param2*param3\n",
        "\n",
        "print(multiplicar(4,6,7))"
      ],
      "metadata": {
        "id": "GXWxbPXCr7Gt"
      },
      "execution_count": null,
      "outputs": []
    },
    {
      "cell_type": "markdown",
      "source": [
        "**Función que devuelve el mayor de 2 números**"
      ],
      "metadata": {
        "id": "e8fXldYPizCm"
      }
    },
    {
      "cell_type": "code",
      "source": [
        "def mayor(param1, param2):\n",
        " if param1>param2:\n",
        "   return param1\n",
        " else:\n",
        "   return param2\n",
        "\n",
        "\n",
        "print(mayor(6,7))\n",
        "print(mayor(7,6))\n",
        "print(mayor(6,8))"
      ],
      "metadata": {
        "colab": {
          "base_uri": "https://localhost:8080/"
        },
        "id": "HJiwdJQuthJM",
        "outputId": "780d9354-ed16-4dc4-83da-5886dd4ef224"
      },
      "execution_count": 2,
      "outputs": [
        {
          "output_type": "stream",
          "name": "stdout",
          "text": [
            "7\n",
            "7\n",
            "8\n"
          ]
        }
      ]
    },
    {
      "cell_type": "markdown",
      "source": [
        "**Función que devuelve el áre de un triángulo firmado por la base y la altura dadas**"
      ],
      "metadata": {
        "id": "ijbHjLN3i_zU"
      }
    },
    {
      "cell_type": "code",
      "source": [
        "def area_triangulo(base, altura):\n",
        "  return base*altura/2\n",
        "\n",
        "print(\"El área del triángulo es:\", area_triangulo(8, 3))\n",
        "print(\"El área del triángulo es:\", area_triangulo(5, 4))\n",
        "print(\"El área del triángulo es:\", area_triangulo(4, 3))"
      ],
      "metadata": {
        "id": "mBWnC53MeF1e"
      },
      "execution_count": null,
      "outputs": []
    },
    {
      "cell_type": "markdown",
      "source": [
        "**Función que convierte una nota numérica a una calificación**"
      ],
      "metadata": {
        "id": "puyIbJ2ijJuF"
      }
    },
    {
      "cell_type": "code",
      "source": [
        "def conversor_notas(nota):\n",
        "  if nota >= 0 and nota <5:\n",
        "    return \"Suspenso\"\n",
        "  elif nota >= 5 and nota <6:\n",
        "    return \"Suficiente\"\n",
        "  elif nota >= 6 and nota <7:\n",
        "    return\"Bien\"\n",
        "  elif nota >= 7 and nota <9:\n",
        "    return \"Notable\"\n",
        "  elif nota >= 9 and nota <10:\n",
        "    return \"Sobresaliente\"\n",
        "  elif nota == 10:\n",
        "    return \"Matrícula de Honor\"\n",
        "  else:\n",
        "    print(\"Error: La nota debe de estar comprendida entre 0 y 10, ambos inclusive.\")\n",
        "\n",
        "\n",
        "nota = float(input(\"Introduce tu calificación:\"))\n",
        "\n",
        "print(\"La calificación del alumno es\", conversor_notas(nota))"
      ],
      "metadata": {
        "colab": {
          "base_uri": "https://localhost:8080/"
        },
        "id": "5cKTHwYbeNc2",
        "outputId": "d36bac96-2a88-41eb-8589-6a8f66ceadd3"
      },
      "execution_count": null,
      "outputs": [
        {
          "output_type": "stream",
          "name": "stdout",
          "text": [
            "Introduce tu calificación:9\n",
            "La calificación del alumno es Sobresaliente\n"
          ]
        }
      ]
    },
    {
      "cell_type": "markdown",
      "source": [
        "**Función que imprime la cuenta atrás de un número (con While)**"
      ],
      "metadata": {
        "id": "2oQmCpSmiDYf"
      }
    },
    {
      "cell_type": "code",
      "source": [
        "def cuenta_atras(inicio):\n",
        "  i=inicio\n",
        "  while i>0:\n",
        "    print(i)\n",
        "    i=i-1\n",
        "  print(\"Lanzamos el cohete!!\")\n",
        "\n",
        "\n",
        "inicio = int(input(\"Introduce un número: \"))\n",
        "cuenta_atras(inicio)"
      ],
      "metadata": {
        "id": "KTEAbg9tjYxl"
      },
      "execution_count": null,
      "outputs": []
    },
    {
      "cell_type": "markdown",
      "source": [
        "**Función que imprime la cuenta atrás de un número (con For)**"
      ],
      "metadata": {
        "id": "ZYfFtHOJkthu"
      }
    },
    {
      "cell_type": "code",
      "source": [
        "def cuenta_atras(inicio):\n",
        "  for i in range(inicio):\n",
        "    print(inicio-i)\n",
        "  print(\"Lanzamos el cohete!!\")\n",
        "\n",
        "\n",
        "inicio = int(input(\"Introduce un número: \"))\n",
        "cuenta_atras(inicio)"
      ],
      "metadata": {
        "colab": {
          "base_uri": "https://localhost:8080/"
        },
        "id": "DX5selztkwdh",
        "outputId": "9b867a97-243f-4f88-8aee-37a9122a5421"
      },
      "execution_count": null,
      "outputs": [
        {
          "output_type": "stream",
          "name": "stdout",
          "text": [
            "Introduce un número9\n",
            "9\n",
            "8\n",
            "7\n",
            "6\n",
            "5\n",
            "4\n",
            "3\n",
            "2\n",
            "1\n",
            "Lanzamos el cohete!!\n"
          ]
        }
      ]
    },
    {
      "cell_type": "markdown",
      "source": [
        "**Función que imprime la tabla de multiplicar de un número**"
      ],
      "metadata": {
        "id": "haJ_w4cTjZwG"
      }
    },
    {
      "cell_type": "code",
      "source": [
        "def tabla_multiplicar(numero):\n",
        "  for i in range(10):\n",
        "    print(numero, \"x\", i, \"=\", numero*i)\n",
        "\n",
        "\n",
        "numero = int(input(\"Introduce un número: \"))\n",
        "tabla_multiplicar(numero)"
      ],
      "metadata": {
        "colab": {
          "base_uri": "https://localhost:8080/"
        },
        "id": "_0ephef4jcej",
        "outputId": "9cc7d935-d8de-4798-c105-cf4a9a10cb8c"
      },
      "execution_count": 4,
      "outputs": [
        {
          "output_type": "stream",
          "name": "stdout",
          "text": [
            "Introduce un número: 34\n",
            "34 x 0 = 0\n",
            "34 x 1 = 34\n",
            "34 x 2 = 68\n",
            "34 x 3 = 102\n",
            "34 x 4 = 136\n",
            "34 x 5 = 170\n",
            "34 x 6 = 204\n",
            "34 x 7 = 238\n",
            "34 x 8 = 272\n",
            "34 x 9 = 306\n"
          ]
        }
      ]
    }
  ]
}