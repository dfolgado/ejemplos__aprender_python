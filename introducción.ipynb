{
  "nbformat": 4,
  "nbformat_minor": 0,
  "metadata": {
    "colab": {
      "provenance": [],
      "authorship_tag": "ABX9TyOFL8ePnE8UR1kpVjKxWoCa",
      "include_colab_link": true
    },
    "kernelspec": {
      "name": "python3",
      "display_name": "Python 3"
    },
    "language_info": {
      "name": "python"
    }
  },
  "cells": [
    {
      "cell_type": "markdown",
      "metadata": {
        "id": "view-in-github",
        "colab_type": "text"
      },
      "source": [
        "<a href=\"https://colab.research.google.com/github/dfolgado/ejemplos_aprender_python/blob/main/introducci%C3%B3n.ipynb\" target=\"_parent\"><img src=\"https://colab.research.google.com/assets/colab-badge.svg\" alt=\"Open In Colab\"/></a>"
      ]
    },
    {
      "cell_type": "markdown",
      "source": [
        "**Hola mundo**"
      ],
      "metadata": {
        "id": "tO4xs1dKyiFc"
      }
    },
    {
      "cell_type": "code",
      "source": [
        "print(\"hola mundo\")"
      ],
      "metadata": {
        "id": "NZUCFt4fymSl"
      },
      "execution_count": null,
      "outputs": []
    },
    {
      "cell_type": "markdown",
      "source": [
        "**Comentarios**"
      ],
      "metadata": {
        "id": "5mGGeuaI0NZT"
      }
    },
    {
      "cell_type": "code",
      "source": [
        "print(\"hola mundo\") # Esto lo vimos en la primera clase\n",
        "'''print(\"hola mundo 2\")\n",
        "print(\"hola mundo 3\")'''\n",
        "print(\"hola mundo 4\")"
      ],
      "metadata": {
        "colab": {
          "base_uri": "https://localhost:8080/"
        },
        "id": "QxeIhYPOGXmo",
        "outputId": "2abe6204-f214-47b5-ee5d-e2b934aedcd1"
      },
      "execution_count": null,
      "outputs": [
        {
          "output_type": "stream",
          "name": "stdout",
          "text": [
            "hola mundo\n",
            "hola mundo 4\n"
          ]
        }
      ]
    },
    {
      "cell_type": "markdown",
      "source": [
        "**Entrada datos**"
      ],
      "metadata": {
        "id": "LXYm6uJV0Rdr"
      }
    },
    {
      "cell_type": "code",
      "source": [
        "nombre = input(\"Introduce tu nombre: \")\n",
        "print(nombre, \"eres mi creador.\")\n",
        "\n",
        "# Aquí no hacemos ninguna comparación o calculo con edad, por lo que no hace falta el int()\n",
        "edad = input(\"Introduce tu edad: \")\n",
        "print(nombre, \"tienes\", edad,\"años\")\n",
        "print(f\"{nombre} tienes {edad} años.\")"
      ],
      "metadata": {
        "id": "GKkPrj1JH3k-",
        "colab": {
          "base_uri": "https://localhost:8080/"
        },
        "outputId": "a0b33255-633e-46a4-b753-ceaf99e07d04"
      },
      "execution_count": null,
      "outputs": [
        {
          "output_type": "stream",
          "name": "stdout",
          "text": [
            "Introduce tu nombre: Federico\n",
            "Federico eres mi creador.\n",
            "Introduce tu edad: 56\n",
            "Federico tienes 56 años\n",
            "Federico tienes 56 años.\n"
          ]
        }
      ]
    },
    {
      "cell_type": "markdown",
      "source": [
        "**Cálculo área**"
      ],
      "metadata": {
        "id": "tgrhwgD_6Sb8"
      }
    },
    {
      "cell_type": "code",
      "source": [
        "print(\"Programa cálculo de área de un rectángulo\")\n",
        "base = float(input(\"Introduce la base en cms: \"))\n",
        "altura = float(input(\"Introduce la altura en cms: \"))\n",
        "area = base * altura\n",
        "print(\"El rectángulo tiene un área de\",area,\"cm cuadrados\")"
      ],
      "metadata": {
        "id": "VKJs-4LdK5hw",
        "colab": {
          "base_uri": "https://localhost:8080/"
        },
        "outputId": "a09493d3-2993-4e2e-904b-9228e6b02b06"
      },
      "execution_count": null,
      "outputs": [
        {
          "output_type": "stream",
          "name": "stdout",
          "text": [
            "Programa cálculo de área de un rectángulo\n",
            "Introduce la base en cms: 8.4\n",
            "Introduce la altura en cms: 2.3\n",
            "El rectángulo tiene un área de 19.32 cm cuadrados\n"
          ]
        }
      ]
    },
    {
      "cell_type": "markdown",
      "source": [
        "**Tipo de datos**"
      ],
      "metadata": {
        "id": "HqwcG2AU3j77"
      }
    },
    {
      "cell_type": "code",
      "source": [
        "entero = int(input(\"Introduce un entero: \"))\n",
        "decimal = float(input(\"Introduce un decimal: \")) # con un punto (Ej. 34.8)\n",
        "texto = input(\"Introduce un texto: \")\n",
        "\n",
        "print(\"Soy un entero: \", entero)\n",
        "print(\"Soy un decimal: \", decimal)\n",
        "print(\"Soy un texto: \", texto)\n",
        "print(\"Soy un booleano: \", True)\n"
      ],
      "metadata": {
        "colab": {
          "base_uri": "https://localhost:8080/"
        },
        "id": "0hv7ql_21mLG",
        "outputId": "821b2732-9da5-4111-cb77-f29403911ff3"
      },
      "execution_count": null,
      "outputs": [
        {
          "output_type": "stream",
          "name": "stdout",
          "text": [
            "Introduce un entero: 6\n",
            "Introduce un decimal: 7.9\n",
            "Introduce un texto: Holaaa\n",
            "Soy un entero:  6\n",
            "Soy un decimal:  7.9\n",
            "Soy un texto:  Holaaa\n",
            "Soy un booleano:  True\n"
          ]
        }
      ]
    },
    {
      "cell_type": "markdown",
      "source": [
        "**Asignación**"
      ],
      "metadata": {
        "id": "KVwr1PpIzDKR"
      }
    },
    {
      "cell_type": "code",
      "source": [
        "d = 9\n",
        "\n",
        "a = b = c = d\n",
        "\n",
        "print(a,b,c,d)"
      ],
      "metadata": {
        "colab": {
          "base_uri": "https://localhost:8080/"
        },
        "id": "jXzNnLNbkXpz",
        "outputId": "434c9fa7-f57a-4895-94e0-e53ba5c02a10"
      },
      "execution_count": null,
      "outputs": [
        {
          "output_type": "stream",
          "name": "stdout",
          "text": [
            "9 9 9 9\n"
          ]
        }
      ]
    },
    {
      "cell_type": "markdown",
      "source": [
        "**Incremento**"
      ],
      "metadata": {
        "id": "EZKtiRzczRM0"
      }
    },
    {
      "cell_type": "code",
      "source": [
        "a=10\n",
        "a=11\n",
        "print(a)\n",
        "\n",
        "a+=1\n",
        "print(a)"
      ],
      "metadata": {
        "colab": {
          "base_uri": "https://localhost:8080/"
        },
        "id": "T6RdABA1zT5X",
        "outputId": "e2d3746e-0d73-42b4-d874-1d67cdd5bd93"
      },
      "execution_count": 1,
      "outputs": [
        {
          "output_type": "stream",
          "name": "stdout",
          "text": [
            "11\n",
            "12\n"
          ]
        }
      ]
    },
    {
      "cell_type": "markdown",
      "source": [
        "**Decremento**"
      ],
      "metadata": {
        "id": "rgueX8GHzPTx"
      }
    },
    {
      "cell_type": "code",
      "source": [
        "a=10\n",
        "a=a-1\n",
        "print(a)\n",
        "\n",
        "a-=1\n",
        "print(a)"
      ],
      "metadata": {
        "colab": {
          "base_uri": "https://localhost:8080/"
        },
        "id": "sp7ZnHoCkl0t",
        "outputId": "5ce55fb6-9e9a-4973-d5f3-01089dd195bd"
      },
      "execution_count": null,
      "outputs": [
        {
          "output_type": "stream",
          "name": "stdout",
          "text": [
            "9\n",
            "8\n"
          ]
        }
      ]
    },
    {
      "cell_type": "markdown",
      "source": [
        "**Multiplicación**"
      ],
      "metadata": {
        "id": "WVFczo0fzMuE"
      }
    },
    {
      "cell_type": "code",
      "source": [
        "x = 10\n",
        "y = 2\n",
        "print(\" La multiplicación de\", x, \"e\", y, \"es\", x*y)\n",
        "print(f\" La multiplicación de {x} e {y} es {x*y}\")"
      ],
      "metadata": {
        "colab": {
          "base_uri": "https://localhost:8080/"
        },
        "id": "Ta-ABU_7lIk9",
        "outputId": "7283ed64-ccd6-4341-e852-e015042eb885"
      },
      "execution_count": null,
      "outputs": [
        {
          "output_type": "stream",
          "name": "stdout",
          "text": [
            " La multiplicación de 10 e 2 es 20\n",
            " La multiplicación de 10 e 2 es 20\n"
          ]
        }
      ]
    },
    {
      "cell_type": "markdown",
      "source": [
        "**Divisiones**"
      ],
      "metadata": {
        "id": "jnvpSlt7zHTi"
      }
    },
    {
      "cell_type": "code",
      "source": [
        "x = 6\n",
        "y = 3\n",
        "z = 4\n",
        "print(f\"La división de {x} y {y} es {x/y}\")\n",
        "print(f\"La división entera de {x} e {y} es {x//y}\")\n",
        "print(f\"La división de {z} y {y} es {z/y}\")\n",
        "print(f\"La división entera de {z} y {y} es {z//y}\")\n",
        "print(f\"El resto (módulo) de la división entera de {z} y {y} es {z%y}\")"
      ],
      "metadata": {
        "colab": {
          "base_uri": "https://localhost:8080/"
        },
        "id": "JFY0k-viloob",
        "outputId": "45e32698-8e11-411d-f1dc-cb511366dadf"
      },
      "execution_count": 4,
      "outputs": [
        {
          "output_type": "stream",
          "name": "stdout",
          "text": [
            "La división de 6 y 3 es 2.0\n",
            "La división entera de 6 e 3 es 2\n",
            "La división de 4 y 3 es 1.3333333333333333\n",
            "La división entera de 4 y 3 es 1\n",
            "El resto (módulo) de la división entera de 4 y 3 es 1\n"
          ]
        }
      ]
    },
    {
      "cell_type": "markdown",
      "source": [
        "**Potencia**"
      ],
      "metadata": {
        "id": "EeM8ClufzewN"
      }
    },
    {
      "cell_type": "code",
      "source": [
        "a = 5\n",
        "b = 2\n",
        "print(f\"{a} elevado a {b} es igual a {a**b}\")"
      ],
      "metadata": {
        "colab": {
          "base_uri": "https://localhost:8080/"
        },
        "id": "x4oqjlMnzmvm",
        "outputId": "30494e6e-de74-4989-dd33-14227d538aa3"
      },
      "execution_count": 3,
      "outputs": [
        {
          "output_type": "stream",
          "name": "stdout",
          "text": [
            "5 elevado a 2 es igual a 25\n"
          ]
        }
      ]
    },
    {
      "cell_type": "markdown",
      "source": [
        "**Operadores de comparación y lógicos**"
      ],
      "metadata": {
        "id": "G-capJ4CznIL"
      }
    },
    {
      "cell_type": "code",
      "source": [
        "print( \"10 > 5 da como resultado\", 10>5)\n",
        "print( \"10 < 5 da como resultado\", 10<5)\n",
        "print( \"5 == 5 da como resultado\", 5==5)\n",
        "print( \"10 == 5 da como resultado\", 10==5)\n",
        "\n",
        "a = 4\n",
        "b = 5\n",
        "c = 6\n",
        "\n",
        "print( \"a>=b da como resultado\", a>=b)\n",
        "print( \"a==b da como resultado\", a==b)\n",
        "print( \"not(a==b) da como resultado\", not(a==b))\n",
        "print( \"a>b and b<c da como resultado\", a>b and b<c)\n",
        "print( \"a>b or b<c da como resultado\", a>b or b<c)"
      ],
      "metadata": {
        "colab": {
          "base_uri": "https://localhost:8080/"
        },
        "id": "LC8sU296zr0-",
        "outputId": "02e47640-1d77-474d-a455-5f4adbe944d1"
      },
      "execution_count": 2,
      "outputs": [
        {
          "output_type": "stream",
          "name": "stdout",
          "text": [
            "10 > 5 da como resultado True\n",
            "10 < 5 da como resultado False\n",
            "5 == 5 da como resultado True\n",
            "10 == 5 da como resultado False\n",
            "a>=b da como resultado False\n",
            "a==b da como resultado False\n",
            "not(a==b) da como resultado True\n",
            "a>b and b<c da como resultado False\n",
            "a>b or b<c da como resultado True\n"
          ]
        }
      ]
    }
  ]
}