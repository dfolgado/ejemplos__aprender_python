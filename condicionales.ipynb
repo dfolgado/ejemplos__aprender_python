{
  "nbformat": 4,
  "nbformat_minor": 0,
  "metadata": {
    "colab": {
      "provenance": [],
      "authorship_tag": "ABX9TyOBUW2SDQYHoH8+joKXbImx",
      "include_colab_link": true
    },
    "kernelspec": {
      "name": "python3",
      "display_name": "Python 3"
    },
    "language_info": {
      "name": "python"
    }
  },
  "cells": [
    {
      "cell_type": "markdown",
      "metadata": {
        "id": "view-in-github",
        "colab_type": "text"
      },
      "source": [
        "<a href=\"https://colab.research.google.com/github/dfolgado/ejemplos_aprender_python/blob/main/condicionales.ipynb\" target=\"_parent\"><img src=\"https://colab.research.google.com/assets/colab-badge.svg\" alt=\"Open In Colab\"/></a>"
      ]
    },
    {
      "cell_type": "markdown",
      "source": [
        "**Condicional if**"
      ],
      "metadata": {
        "id": "H4hhQZvfUZA2"
      }
    },
    {
      "cell_type": "code",
      "execution_count": null,
      "metadata": {
        "colab": {
          "base_uri": "https://localhost:8080/"
        },
        "id": "BaheGqefUVV3",
        "outputId": "7a5f9c9f-dc4d-43a1-f018-451860724d08"
      },
      "outputs": [
        {
          "name": "stdout",
          "output_type": "stream",
          "text": [
            "Introduce un número: 4\n"
          ]
        }
      ],
      "source": [
        "num = int(input(\"Introduce un número: \"))\n",
        "if num == 5:\n",
        "  print(\"Has introducido el número 5.\")"
      ]
    },
    {
      "cell_type": "markdown",
      "source": [
        "**Condicional if-else**"
      ],
      "metadata": {
        "id": "OS6vPyB2YRsK"
      }
    },
    {
      "cell_type": "code",
      "source": [
        "num = int(input(\"Introduce un número: \"))\n",
        "\n",
        "if num == 5:\n",
        "  print(\"Has introducido el número 5.\")\n",
        "else:\n",
        "\tprint(\"No has introducido el número 5.\")"
      ],
      "metadata": {
        "id": "TuKovYoCUiNn",
        "colab": {
          "base_uri": "https://localhost:8080/"
        },
        "outputId": "6da0bf57-95c7-415b-b568-b9fce698c1bb"
      },
      "execution_count": null,
      "outputs": [
        {
          "output_type": "stream",
          "name": "stdout",
          "text": [
            "Introduce un número: 8\n",
            "No has introducido el número 5.\n"
          ]
        }
      ]
    },
    {
      "cell_type": "markdown",
      "source": [
        "**Condicional if-elif-else**"
      ],
      "metadata": {
        "id": "hrBaHXfrZHJl"
      }
    },
    {
      "cell_type": "code",
      "source": [
        "num = int(input(\"Introduce un número primo menor que 10: \"))\n",
        "\n",
        "if num == 1:\n",
        "  print(\"Has introducido el número primo 1.\")\n",
        "elif num == 2:\n",
        "  print(\"Has introducido el número primo 2.\")\n",
        "elif num == 3:\n",
        "  print(\"Has introducido el número primo 3.\")\n",
        "elif num == 5:\n",
        "  print(\"Has introducido el número primo 5.\")\n",
        "elif num == 7:\n",
        "  print(\"Has introducido el número primo 7.\")\n",
        "else:\n",
        "  print(\"No has pulsado ningún número primo menor que 10.\")"
      ],
      "metadata": {
        "colab": {
          "base_uri": "https://localhost:8080/"
        },
        "id": "O0yQuRCfZJ9i",
        "outputId": "e54852d0-f367-4c1b-9e0d-22321719fea1"
      },
      "execution_count": null,
      "outputs": [
        {
          "output_type": "stream",
          "name": "stdout",
          "text": [
            "Introduce un número: 8\n",
            "Has introducido el número 8.\n"
          ]
        }
      ]
    },
    {
      "cell_type": "markdown",
      "source": [
        "**if anidados**"
      ],
      "metadata": {
        "id": "nzvPMwdobnMi"
      }
    },
    {
      "cell_type": "code",
      "source": [
        "nombre= input(\"Dime tu nombre \")\n",
        "apellido = input(\"Dime tu apellido \")\n",
        "\n",
        "if nombre == \"Pepe\":\n",
        "  if apellido == \"García\":\n",
        "    print(\"Eres Pepe García!!\")\n",
        "  else:\n",
        "    print(\"Eres Pepe, pero NO García.\")\n",
        "else:\n",
        "  if apellido == \"García\":\n",
        "    print(\"Eres García, pero Pepe.\")\n",
        "  else:\n",
        "    print(\"No eres ni Pepe ni García..\")"
      ],
      "metadata": {
        "colab": {
          "base_uri": "https://localhost:8080/"
        },
        "id": "5Fcn1VcTbqCz",
        "outputId": "8d5945a2-fcb4-42f8-fb9e-395eac4ceabe"
      },
      "execution_count": null,
      "outputs": [
        {
          "output_type": "stream",
          "name": "stdout",
          "text": [
            "Dime tu nombre Pepe\n",
            "Dime tu apellido Goya\n",
            "Eres Pepe, pero NO García.\n"
          ]
        }
      ]
    },
    {
      "cell_type": "markdown",
      "source": [
        "**Estudio rango de dos números**"
      ],
      "metadata": {
        "id": "BOUI_XztvcDv"
      }
    },
    {
      "cell_type": "code",
      "source": [
        "x=int(input(\"Introduce un número x:\"))\n",
        "y=int(input(\"Introduce un número y:\"))\n",
        "if x>2 and x <=10:\n",
        "  print(\"x es mayor que dos y menor o igual que diez \")\n",
        "  if y>2 or y <=20:\n",
        "    print(\"y es mayor que dos o menor o igual que veinte\")\n",
        "    if (not(x==y)):\n",
        "      print(\"x no es igual que y\")"
      ],
      "metadata": {
        "id": "OJ9t4jilvYfy",
        "colab": {
          "base_uri": "https://localhost:8080/"
        },
        "outputId": "a636ed69-4477-408b-8d38-4fc4cd4d3fed"
      },
      "execution_count": null,
      "outputs": [
        {
          "output_type": "stream",
          "name": "stdout",
          "text": [
            "Introduce un número x:4\n",
            "Introduce un número y:2\n",
            "x es mayor que dos y menor o igual que diez \n",
            "y es mayor que dos o menor o igual que veinte\n",
            "x no es igual que y\n"
          ]
        }
      ]
    },
    {
      "cell_type": "markdown",
      "source": [
        "**Condicional match-case**"
      ],
      "metadata": {
        "id": "Sl0H8ICXpN7R"
      }
    },
    {
      "cell_type": "code",
      "source": [
        "num = int(input(\"Introduce un número primo menor que 10: \"))\n",
        "\n",
        "match num:\n",
        "  case 1:\n",
        "    print(\"Has introducido el número primo 1.\")\n",
        "  case 2:\n",
        "    print(\"Has introducido el número primo 2.\")\n",
        "  case 3:\n",
        "    print(\"Has introducido el número primo 3.\")\n",
        "  case 5:\n",
        "    print(\"Has introducido el número primo 5.\")\n",
        "  case 7:\n",
        "    print(\"Has introducido el número primo 7.\")\n",
        "  case _:\n",
        "    print(\"No has pulsado ningún número primo menor que 10.\")"
      ],
      "metadata": {
        "colab": {
          "base_uri": "https://localhost:8080/"
        },
        "id": "bhjjHnqXQKya",
        "outputId": "56e76e3a-2ee4-4ba9-a8bb-b2c2d96bc14a"
      },
      "execution_count": 4,
      "outputs": [
        {
          "output_type": "stream",
          "name": "stdout",
          "text": [
            "Introduce un número primo menor que 10: 7\n",
            "Has introducido el número primo 7.\n"
          ]
        }
      ]
    },
    {
      "cell_type": "markdown",
      "source": [
        "**Comprobación mayoría de edad**"
      ],
      "metadata": {
        "id": "5IEkMFXGvjUG"
      }
    },
    {
      "cell_type": "code",
      "source": [
        "print(\"Programa condicional\")\n",
        "edad = int(input(\"Introduce tu edad: \"))\n",
        "if edad >=18:\n",
        "  print(\"Eres mayor de edad\")\n",
        "else:\n",
        "  print(\"Eres menor de edad\")"
      ],
      "metadata": {
        "id": "7AJ8mPq6u4Wi"
      },
      "execution_count": null,
      "outputs": []
    },
    {
      "cell_type": "markdown",
      "source": [
        "**Conversor fechas**"
      ],
      "metadata": {
        "id": "ej-tOSByRuHA"
      }
    },
    {
      "cell_type": "code",
      "source": [
        "# Día de la semana\n",
        "dia_semana = int(input(\"Introduce el día de la semana: \"))\n",
        "\n",
        "if dia_semana == 1:\n",
        "  dia_semana_letra = \"lunes\"\n",
        "elif dia_semana == 2:\n",
        "  dia_semana_letra = \"martes\"\n",
        "elif dia_semana == 3:\n",
        "  dia_semana_letra = \"miércoles\"\n",
        "elif dia_semana == 4:\n",
        "  dia_semana_letra = \"jueves\"\n",
        "elif dia_semana == 5:\n",
        "  dia_semana_letra = \"viernes\"\n",
        "elif dia_semana == 6:\n",
        "  dia_semana_letra = \"sábado\"\n",
        "elif dia_semana == 7:\n",
        "  dia_semana_letra = \"domingo\"\n",
        "else:\n",
        "  print(\"ERROR!! El día de la semana tiene que estar comprendido entre 1 y 7.\")\n",
        "\n",
        "# Día del mes\n",
        "dia_mes = int(input(\"Introduce el día del mes: \"))\n",
        "if dia_mes < 1 or dia_mes >31:\n",
        "  print(\"ERROR!! El día del mes tiene que estar comprendido entre 1 y 31.\")\n",
        "\n",
        "# Mes\n",
        "mes = int(input(\"Introduce el mes: \"))\n",
        "\n",
        "if mes == 1:\n",
        "  mes_letra = \"Enero\"\n",
        "elif mes == 2:\n",
        "  mes_letra = \"Febrero\"\n",
        "elif mes == 3:\n",
        "  mes_letra = \"Marzo\"\n",
        "elif mes == 4:\n",
        "  mes_letra = \"Abril\"\n",
        "elif mes == 5:\n",
        "  mes_letra = \"Mayo\"\n",
        "elif mes == 6:\n",
        "  mes_letra = \"Junio\"\n",
        "elif mes == 7:\n",
        "  mes_letra = \"Julio\"\n",
        "elif mes == 8:\n",
        "  mes_letra = \"Agosto\"\n",
        "elif mes == 9:\n",
        "  mes_letra = \"Septiembre\"\n",
        "elif mes == 10:\n",
        "  mes_letra = \"Octubre\"\n",
        "elif mes == 11:\n",
        "  mes_letra = \"Noviembre\"\n",
        "elif mes == 12:\n",
        "  mes_letra = \"Diciembre\"\n",
        "else:\n",
        "  print(\"ERROR!! El mes tiene que estar comprendido entre 1 y 12.\")\n",
        "\n",
        "# Año\n",
        "año = int(input(\"Introduce el año: \"))\n",
        "\n",
        "\n",
        "\n",
        "print(\"Hoy es\", dia_semana_letra, \",\", dia_mes, \"de\", mes_letra, \"de\", año)\n"
      ],
      "metadata": {
        "id": "2LSTCU3jRwrf"
      },
      "execution_count": null,
      "outputs": []
    },
    {
      "cell_type": "markdown",
      "source": [
        "**Calculadora**"
      ],
      "metadata": {
        "id": "04hjJamSb7P9"
      }
    },
    {
      "cell_type": "code",
      "source": [
        "# Pedimos 2 números (con int() convertimos el texto a entero)\n",
        "a=int(input(\"Introduce un número: \"))\n",
        "b=int(input(\"Introduce otro número: \"))\n",
        "\n",
        "# Imprimimos el menú\n",
        "print(\"Elige la operación: \")\n",
        "print(\"1. Suma\")\n",
        "print(\"2. Resta\")\n",
        "print(\"3. Multiplicación\")\n",
        "\n",
        "# Leemos la opción escogida\n",
        "op=int(input())\n",
        "\n",
        "# Imprimimos el resultado\n",
        "print(\"El resultado es: \")\n",
        "if op == 1:\n",
        "  print(a+b)\n",
        "elif op == 2:\n",
        "  print(a-b)\n",
        "elif op == 3:\n",
        "  print(a*b)\n",
        "else:\n",
        "  print(\"Error!! Operación debe de ser 1,2 ó 3.\")"
      ],
      "metadata": {
        "id": "H2V7HoOab6XE"
      },
      "execution_count": null,
      "outputs": []
    },
    {
      "cell_type": "markdown",
      "source": [
        "**Conversor notas**"
      ],
      "metadata": {
        "id": "9wnSdrikpN7l"
      }
    },
    {
      "cell_type": "code",
      "source": [
        "nota = float(input(\"Introduce tu calificación:\"))\n",
        "\n",
        "if nota >= 0 and nota <5:\n",
        "  print(\"Suspenso\")\n",
        "elif nota >= 5 and nota <6:\n",
        "  print(\"Suficiente\")\n",
        "elif nota >= 6 and nota <7:\n",
        "  print(\"Bien\")\n",
        "elif nota >= 7 and nota <9:\n",
        "  print(\"Notable\")\n",
        "elif nota >= 9 and nota <10:\n",
        "  print(\"Sobresaliente\")\n",
        "elif nota == 10:\n",
        "  print(\"Matrícula de Honor\")\n",
        "else:\n",
        "  print(\"Error: La nota debe de estar comprendida entre 0 y 10, ambos inclusive.\")\n"
      ],
      "metadata": {
        "colab": {
          "base_uri": "https://localhost:8080/"
        },
        "id": "Nloz4933pS9a",
        "outputId": "160f6999-3c8a-4b11-c9da-e9c43a0ee075"
      },
      "execution_count": null,
      "outputs": [
        {
          "output_type": "stream",
          "name": "stdout",
          "text": [
            "Introduce tu calificación:5\n",
            "Aprobado\n"
          ]
        }
      ]
    },
    {
      "cell_type": "markdown",
      "source": [
        "**Cajero automático**"
      ],
      "metadata": {
        "id": "i6f2qcUAltSD"
      }
    },
    {
      "cell_type": "code",
      "source": [
        "# Definimos el saldo inicial\n",
        "saldo = 1000\n",
        "\n",
        "# Imprimimos el menú\n",
        "print(\"Buenas, elija una operación: \")\n",
        "print(\"1. Consulta de saldo\")\n",
        "print(\"2. Retirar dinero\")\n",
        "print(\"3. Ingresar dinero\")\n",
        "\n",
        "# Leemos la opción escogida\n",
        "op=int(input())\n",
        "\n",
        "# Realizamos la operación\n",
        "if op == 1:\n",
        "  print(\"Su saldo actual es\", saldo)\n",
        "elif op == 2:\n",
        "    dinero_a_retirar = int(input(\"¿Cuánto dinero desea retirar?\"))\n",
        "    if saldo<dinero_a_retirar:\n",
        "      print(\"Lo sentimos, su saldo no es suficiente:\", saldo)\n",
        "    else:\n",
        "      saldo = saldo - dinero_a_retirar\n",
        "      print(\"Su saldo actual es\", saldo)\n",
        "elif op == 3:\n",
        "  dinero_ingresado = int(input(\"¿Cuánto dinero desea ingresar?\"))\n",
        "  saldo = saldo + dinero_ingresado\n",
        "  print(\"Su saldo actual es\", saldo)\n",
        "else:\n",
        "  print(\"Error!! Operación debe de ser 1,2 ó 3.\")"
      ],
      "metadata": {
        "id": "P-Oy4zTvlw2p",
        "colab": {
          "base_uri": "https://localhost:8080/"
        },
        "outputId": "0b2c1571-2230-4555-91f5-1a9c090efa07"
      },
      "execution_count": 7,
      "outputs": [
        {
          "output_type": "stream",
          "name": "stdout",
          "text": [
            "Buenas, elija una operación: \n",
            "1. Consulta de saldo\n",
            "2. Retirar dinero\n",
            "3. Ingresar dinero\n",
            "2\n",
            "¿Cuánto dinero desea retirar?567\n",
            "Su saldo actual es 433\n"
          ]
        }
      ]
    }
  ]
}